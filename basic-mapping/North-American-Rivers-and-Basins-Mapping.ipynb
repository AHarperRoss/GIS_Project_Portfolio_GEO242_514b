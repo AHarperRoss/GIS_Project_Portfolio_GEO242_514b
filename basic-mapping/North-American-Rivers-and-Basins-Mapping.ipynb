{
  "nbformat": 4,
  "nbformat_minor": 0,
  "metadata": {
    "colab": {
      "provenance": [],
      "include_colab_link": true
    },
    "kernelspec": {
      "name": "python3",
      "display_name": "Python 3"
    },
    "language_info": {
      "name": "python"
    }
  },
  "cells": [
    {
      "cell_type": "markdown",
      "metadata": {
        "id": "view-in-github",
        "colab_type": "text"
      },
      "source": [
        "<a href=\"https://colab.research.google.com/github/AHarperRoss/gis-project-portfolio-geo242-514b/blob/main/basic-mapping/North-American-Rivers-and-Basins-Mapping.ipynb\" target=\"_parent\"><img src=\"https://colab.research.google.com/assets/colab-badge.svg\" alt=\"Open In Colab\"/></a>"
      ]
    },
    {
      "cell_type": "markdown",
      "source": [
        "## **GEO 242A Week 2 Assignment: Cartography**"
      ],
      "metadata": {
        "id": "C0ymCPR5aSHN"
      }
    },
    {
      "cell_type": "markdown",
      "source": [
        "🚀 Created by Alice Ross\n",
        "\n",
        "09/04/2024"
      ],
      "metadata": {
        "id": "Pt_OREXFPvkr"
      }
    },
    {
      "cell_type": "markdown",
      "source": [
        "### **Get ready to start**\n",
        "\n",
        "- Use **`File\\Save a copy in Drive`** to make a copy of this notebook in my own Google Drive\n",
        "- By default, this notebooks will be saved to a new folder called **`Colab`** under root directory of my Google Drive"
      ],
      "metadata": {
        "id": "v84Fkx0LHARM"
      }
    },
    {
      "cell_type": "markdown",
      "source": [
        "### **Map North American Rivers and Basins**\n",
        "\n",
        "1. **Original shareable link of the map**\n",
        "\n",
        "```markdown\n",
        "https://drive.google.com/file/d/1LdsJ_HGQj1WyBGQZRaWhq-iVIwkuk1ek/view?usp=sharing\n",
        "```\n",
        "\n",
        "2. **Obtain a shareable link**\n",
        "\n",
        "   - The default link I get for this picture file cannot be directly used in Notebook to show the picture correctly\n",
        "   - I made some changes to the default sharable link:\n",
        "    - Deleted **`/view?usp=sharing`** at the end of the link\n",
        "    - Replaced **`/file/d/`** with **`/uc?export=view&id=`**\n",
        "   - Below is a link I can use to insert a picture in Google Colab notebook\n",
        "\n",
        "```markdown\n",
        "https://drive.google.com/uc?export=view&id=1LdsJ_HGQj1WyBGQZRaWhq-iVIwkuk1ek\n",
        "```\n",
        "\n",
        "3. **Map of North American Rivers and Basins**\n",
        "  - Use the link above and the syntax in [this link](https://drive.google.com/uc?export=view&id=1LdsJ_HGQj1WyBGQZRaWhq-iVIwkuk1ek), I can insert the map I prepared down here\n",
        "\n",
        "![this link](https://drive.google.com/uc?export=view&id=1LdsJ_HGQj1WyBGQZRaWhq-iVIwkuk1ek)"
      ],
      "metadata": {
        "id": "WVs4J1jQbESU"
      }
    },
    {
      "cell_type": "markdown",
      "source": [
        "### **Reflection on my first experience mapping with QGIS**\n",
        "\n",
        "- I spent 1 hour to make my first map in QGIS\n",
        "- Here is how I rate my first experience working in QGIS\n",
        "  - Data managaement and organization\n",
        "    - 9/10\n",
        "    - the example was very detailed and easy to follow\n",
        "    - I don't have much experience with computers, and I was still able to work my way through the map-making process with only occasional references to the guide\n",
        "    - the system has a lot of functions, but it was clearly layed out and intuitive to use.\n",
        "    - I'm sure the more I use it the less I'll nees to access a guide\n",
        "  - Cartographic functionalities, including changing colors/symbols of layers, adding map elements, exporting a map\n",
        "    - 6/10\n",
        "    - I had some issues with the print layout page\n",
        "    - for some reason my map was too large and the legend, scale bar, and textbox showed up way too small\n",
        "      - I had to go to office hours to get it fixed\n",
        "    - there was no intuitive way to fix the issue by myself\n",
        "    - but once I reset the map, putting everything on it and saving a copy was really simple and I had no issue with it"
      ],
      "metadata": {
        "id": "i4RTLellbUh7"
      }
    },
    {
      "cell_type": "markdown",
      "source": [
        "### **Save and share this notebook**\n",
        "\n",
        "- Below is a publicly viewable link to this notebook\n",
        "\n",
        "```markdown\n",
        "https://colab.research.google.com/drive/1Vjf6JC1ZaBQM0XT9Zof0T0Q89oij2PGB?usp=sharing\n",
        "```"
      ],
      "metadata": {
        "id": "kkgukjDcXsqC"
      }
    },
    {
      "cell_type": "markdown",
      "source": [
        "### **Reference**\n",
        "\n",
        "- [Markdown cheat sheet](https://www.markdownguide.org/cheat-sheet/)\n",
        "- [Insert other references if available]"
      ],
      "metadata": {
        "id": "fvMbEX89YLeY"
      }
    }
  ]
}