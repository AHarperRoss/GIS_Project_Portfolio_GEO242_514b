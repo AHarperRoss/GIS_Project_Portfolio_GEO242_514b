{
  "nbformat": 4,
  "nbformat_minor": 0,
  "metadata": {
    "colab": {
      "provenance": [],
      "include_colab_link": true
    },
    "kernelspec": {
      "name": "python3",
      "display_name": "Python 3"
    },
    "language_info": {
      "name": "python"
    }
  },
  "cells": [
    {
      "cell_type": "markdown",
      "metadata": {
        "id": "view-in-github",
        "colab_type": "text"
      },
      "source": [
        "<a href=\"https://colab.research.google.com/github/AHarperRoss/gis-project-portfolio-geo242-514b/blob/main/basic-mapping/First-QGIS-Mapping.ipynb\" target=\"_parent\"><img src=\"https://colab.research.google.com/assets/colab-badge.svg\" alt=\"Open In Colab\"/></a>"
      ]
    },
    {
      "cell_type": "markdown",
      "source": [
        "## **GEO 242A Week 1 Assignment: Mental Map**"
      ],
      "metadata": {
        "id": "C0ymCPR5aSHN"
      }
    },
    {
      "cell_type": "markdown",
      "source": [
        "🚀 Created by Alice Ross\n",
        "\n",
        "08/28/24"
      ],
      "metadata": {
        "id": "Pt_OREXFPvkr"
      }
    },
    {
      "cell_type": "markdown",
      "source": [
        "### **Get ready to start**\n",
        "\n",
        "- Use **`File\\Save a copy in Drive`** to make a copy of this notebook in my own Google Drive\n",
        "- By default, this notebooks will be saved to a new folder called **`Colab`** under root directory of my Google Drive"
      ],
      "metadata": {
        "id": "v84Fkx0LHARM"
      }
    },
    {
      "cell_type": "markdown",
      "source": [
        "### **My mental map of Miami University**\n",
        "\n",
        "1. **Create a mental map**\n",
        "   - Draw a mental map of Miami University Oxford Campus and/or City of Oxford on a piece of paper (or in your computer)\n",
        "\n",
        "2. **Share map**\n",
        "   - Take a picture of my mental map if drawn on paper\n",
        "   - Upload the picture of my mental map to my Google Drive folder for Week 1 assignment\n",
        "   - Change Share privilege to make this file viewable by anyone with a link\n",
        "   - Copy the sharable link\n",
        "\n",
        "   ```markdown\n",
        "   original: https://drive.google.com/file/d/1LK6ox8-Gq0Rj_SM39MHJ5XVGROXuK4Ff/view?usp=drive_link\n",
        "   edited: https://drive.google.com/uc?export=view&id=1LK6ox8-Gq0Rj_SM39MHJ5XVGROXuK4Ff\n",
        "   ```\n",
        "\n",
        "3. **Obtain a shareable link**\n",
        "\n",
        "   - The default link I get for this picture file cannot be directly used in Notebook to show the picture correctly\n",
        "   - I made some changes to the default sharable link:\n",
        "    - Keep the **`1A2B3C4D5E6F7G8H9I0J`** part because this is the unique file ID for the picture\n",
        "    - Deleted **`/view?usp=sharing`** at the end of the link\n",
        "    - Replaced **`/file/d/`** with **`/uc?export=view&id=`**\n",
        "   - Here is an example I referred to:\n",
        "    - Default sharable link\n",
        "```\n",
        "https://drive.google.com/file/d/1A2B3C4D5E6F7G8H9I0J/view?usp=sharing\n",
        "```\n",
        "    - The direct link for view from this example would be\n",
        "```\n",
        "https://drive.google.com/uc?export=view&id=1A2B3C4D5E6F7G8H9I0J\n",
        "```\n",
        "   - The link below is the correct one I need to use in the next section\n",
        "```\n",
        "https://drive.google.com/uc?export=view&id=1LK6ox8-Gq0Rj_SM39MHJ5XVGROXuK4Ff\n",
        "```\n",
        "\n",
        "\n",
        "4. **Mental map**\n",
        "\n",
        "   ![Map](https://drive.google.com/uc?export=view&id=1LK6ox8-Gq0Rj_SM39MHJ5XVGROXuK4Ff) <!-- Replace link with the link generated above to insert your mental map -->"
      ],
      "metadata": {
        "id": "WVs4J1jQbESU"
      }
    },
    {
      "cell_type": "markdown",
      "source": [
        "### **Reflection on my first experience with Markdown**\n",
        "\n",
        "- Here is a table showing things that I feel excited and challenging in my first experience working in markdown\n",
        "\n",
        "| Things I'm excited about      | Things challenging for me  |\n",
        "| ----------------------------- | -------------------------- |\n",
        "| Seeing what I can do with it  | Remembering the differneces between spaces and tabs|\n",
        "|Being able to insert images and not having to mess with them|Remembering to use all of the finicky characters|\n",
        "|Learning something new!|Going and checking my work if I mess up|\n",
        "\n",
        "- Here is how I rate my first experience working in markdown\n",
        "  - Formating and organization functionality\n",
        "    - It was really cool to use after I figured it out, because I had total control over formatting. Normally in Google docs, I just have to go along with whatever formatting they decide to give me, but here I can just make it myself. It did take me a little while to figure out what did what. And the lines of markdown script were a little intimidating to see at first, before I knew what all of them meant.\n",
        "  - Navigate the tool using its GUI\n",
        "    - Again, because I can control everything about what is on my doc, it was nice to see what I was making. Also the coding bar and the preview bar side by side really helped with seeing how everything was coming out, so I didn't have to double check all the time. Even before I had the markdown language figured out, it was easy to mess with things to see what they did. I used this to figure out what most things like the `*` and the `#` did before we went over them in class."
      ],
      "metadata": {
        "id": "i4RTLellbUh7"
      }
    },
    {
      "cell_type": "markdown",
      "source": [
        "### **Save and share this notebook**\n",
        "\n",
        "- I made this notebook viewable by anyone with the link\n",
        "\n",
        "![Share Notebook](https://drive.google.com/uc?export=view&id=1K4a3saeAXrzKcB4fkivkjUmLLWJ1R7oS)\n",
        "\n",
        "- Then I copied this link to submit to the [Canvas assignment](https://miamioh.instructure.com/courses/222781/assignments/2887539)"
      ],
      "metadata": {
        "id": "kkgukjDcXsqC"
      }
    },
    {
      "cell_type": "markdown",
      "source": [
        "### **Reference**\n",
        "\n",
        "- [Markdown cheat sheet](https://www.markdownguide.org/cheat-sheet/)\n",
        "- [Insert other references if available]"
      ],
      "metadata": {
        "id": "fvMbEX89YLeY"
      }
    }
  ]
}